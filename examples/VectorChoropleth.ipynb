{
 "cells": [
  {
   "cell_type": "code",
   "execution_count": 2,
   "metadata": {},
   "outputs": [
    {
     "data": {
      "application/vnd.jupyter.widget-view+json": {
       "model_id": "7cb56d3a71774a97b4af9806cb53f5f0",
       "version_major": 2,
       "version_minor": 0
      },
      "text/plain": [
       "VBox(children=(Select(description='Select Field:', options={'Negative Nil income Family households.': 'neg_nil…"
      ]
     },
     "metadata": {},
     "output_type": "display_data"
    }
   ],
   "source": [
    "import folium\n",
    "import json\n",
    "from branca.colormap import linear\n",
    "import geopandas\n",
    "import ipywidgets as widgets\n",
    "out = widgets.Output()\n",
    "\n",
    "dataFile = \"data/choropleth_data.geojson\"\n",
    "metaDataFile = \"data/choropleth_metadata.json\"\n",
    "vectorTilesPBF= \"http://openapi-dev.aurin.org.au/public/gwc/service/wmts?REQUEST=GetTile&SERVICE=WMTS&VERSION=1.0.0&LAYER=aurin:SA1_2016_AUST&STYLE=&TILEMATRIX=EPSG:900913:{z}&TILEMATRIXSET=EPSG:900913&FORMAT=application/x-protobuf;type=mapbox-vector&TILECOL={x}&TILEROW={y}\"\n",
    "\n",
    "\n",
    "\n",
    "#loading the local data\n",
    "myData=geopandas.read_file(dataFile)\n",
    "\n",
    "#load the linkingKey from metadata\n",
    "metaData = json.load(open(metaDataFile))\n",
    "keyField = metaData[\"key\"]\n",
    "\n",
    "numericFields = {}\n",
    "#extract the numeric fields\n",
    "for att in metaData[\"selectedAttributes\"]:\n",
    "    if(att['type'] == 'Short'):\n",
    "        numericFields[att['description']] = att['name']\n",
    "\n",
    "\n",
    "select = widgets.Select(\n",
    "    options=numericFields,\n",
    "    description='Select Field:',\n",
    "    disabled=False\n",
    ")\n",
    "\n",
    "#Generate and display a map\n",
    "def onFieldSelect(b):\n",
    "    with out:\n",
    "        field = select.value\n",
    "        #generate a scalled color map\n",
    "        colormap = linear.YlGn_09.scale(\n",
    "            myData[field].min(),\n",
    "            myData[field].max())\n",
    "\n",
    "        #generate a key value dictionary with key as linking field and value as color to be applied\n",
    "        linkData = {}\n",
    "        for index, row in myData.iterrows():\n",
    "            linkData[row[keyField]] =  colormap(row['negative_nil_income_tot'])\n",
    "        #initialize a map\n",
    "        m= folium.Map(tiles=None, location=[-37, 140],zoom_start=8)\n",
    "        m.add_vector_grid_choropleth(vectorTilesPBF,\n",
    "                                   name=\"SA1_2016_AUST\",\n",
    "                                   data=json.dumps(linkData),\n",
    "                                   field=keyField.upper())\n",
    "        folium.LayerControl().add_to(m)\n",
    "        colormap.caption = select.label\n",
    "        colormap.add_to(m)\n",
    "        display(m)\n",
    "\n",
    "\n",
    "button = widgets.Button(description=\"Show Map\")\n",
    "button.on_click(onFieldSelect)\n",
    "controllComponent = widgets.VBox([select,button,out])\n",
    "display(controllComponent)\n",
    "\n",
    "\n",
    "    \n"
   ]
  },
  {
   "cell_type": "code",
   "execution_count": null,
   "metadata": {},
   "outputs": [],
   "source": []
  },
  {
   "cell_type": "code",
   "execution_count": null,
   "metadata": {},
   "outputs": [],
   "source": []
  }
 ],
 "metadata": {
  "kernelspec": {
   "display_name": "Python 3",
   "language": "python",
   "name": "python3"
  },
  "language_info": {
   "codemirror_mode": {
    "name": "ipython",
    "version": 3
   },
   "file_extension": ".py",
   "mimetype": "text/x-python",
   "name": "python",
   "nbconvert_exporter": "python",
   "pygments_lexer": "ipython3",
   "version": "3.6.5"
  }
 },
 "nbformat": 4,
 "nbformat_minor": 2
}
